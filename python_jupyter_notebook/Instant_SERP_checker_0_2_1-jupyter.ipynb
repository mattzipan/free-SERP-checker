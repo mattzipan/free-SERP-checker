{
  "nbformat": 4,
  "nbformat_minor": 0,
  "metadata": {
    "colab": {
      "name": "Instant SERP checker - 0.2.1.ipynb",
      "provenance": [],
      "collapsed_sections": []
    },
    "kernelspec": {
      "name": "python3",
      "display_name": "Python 3"
    }
  },
  "cells": [
    {
      "cell_type": "code",
      "metadata": {
        "id": "bzw537OE6xp1",
        "colab_type": "code",
        "colab": {}
      },
      "source": [
        "import requests"
      ],
      "execution_count": null,
      "outputs": []
    },
    {
      "cell_type": "markdown",
      "metadata": {
        "id": "L56l2nktDN6h",
        "colab_type": "text"
      },
      "source": [
        "# Set up your search"
      ]
    },
    {
      "cell_type": "code",
      "metadata": {
        "id": "sG08c9r8660P",
        "colab_type": "code",
        "colab": {}
      },
      "source": [
        "#get API key at http://serpstack.com/?fpr=ttygt45bxbc55\n",
        "\n",
        "#@title Enter your parameters\n",
        "api_key = \"\" #@param {type:\"string\"}\n",
        "query = \"\" #@param {type:\"string\"}\n",
        "target_domain = \"\" #@param {type:\"string\"}\n",
        "google_domain = \"\" #@param {type:\"string\"}\n",
        "country_code = \"\" #@param {type:\"string\"}\n",
        "language = \"\" #@param {type:\"string\"}\n",
        "results = \"\" #@param {type:\"string\"}\n",
        "device = \"mobile\" #@param [\"desktop\", \"mobile\", \"tablet\"]\n",
        "\n",
        "\n"
      ],
      "execution_count": null,
      "outputs": []
    },
    {
      "cell_type": "markdown",
      "metadata": {
        "id": "DzCG8S3sDel1",
        "colab_type": "text"
      },
      "source": [
        "## Send the request"
      ]
    },
    {
      "cell_type": "code",
      "metadata": {
        "id": "gYm1tKYADKyO",
        "colab_type": "code",
        "colab": {}
      },
      "source": [
        "#configure API parameters\n",
        "params = {\n",
        "  'access_key': api_key,\n",
        "  'device': device,\n",
        "  'gl': country_code,\n",
        "  'hl': language,\n",
        "  'auto_location': '1',\n",
        "  'google_domain':google_domain,\n",
        "  'query': query,\n",
        "  'num': results\n",
        "}\n",
        "\n",
        "api_result = requests.get('http://api.serpstack.com/search', params)\n",
        "api_response = api_result.json()"
      ],
      "execution_count": null,
      "outputs": []
    },
    {
      "cell_type": "markdown",
      "metadata": {
        "id": "te8YzqWYXKWj",
        "colab_type": "text"
      },
      "source": [
        ""
      ]
    },
    {
      "cell_type": "markdown",
      "metadata": {
        "id": "245hZnuVD0y8",
        "colab_type": "text"
      },
      "source": [
        "# Show results"
      ]
    },
    {
      "cell_type": "code",
      "metadata": {
        "id": "FRuJN3L68sQR",
        "colab_type": "code",
        "colab": {}
      },
      "source": [
        "#list top ten serps\n",
        "for number, result in enumerate(api_response['organic_results'], start=1):\n",
        "    if target_domain in result['domain']:\n",
        "      print(\"=====================================================================\")\n",
        "      print(\"%s. %s - %s\" % (number, result['domain'], result['title']))\n",
        "      print(\"=====================================================================\")\n",
        "    else:\n",
        "      print(\"%s. %s - %s\" % (number, result['domain'], result['title']))"
      ],
      "execution_count": null,
      "outputs": []
    }
  ]
}